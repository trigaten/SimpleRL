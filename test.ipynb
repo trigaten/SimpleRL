{
 "cells": [
  {
   "cell_type": "code",
   "execution_count": 8,
   "metadata": {},
   "outputs": [],
   "source": [
    "from simplerl import Policy, MaxQPolicy, DQN, BasicExperienceBuffer, DiscreteRandomPolicy, compare_lists_of_np_arrays, unzip_experience_buffer\n",
    "import torch.nn as nn\n",
    "import torch"
   ]
  },
  {
   "cell_type": "code",
   "execution_count": 2,
   "metadata": {},
   "outputs": [],
   "source": [
    "class LinearNet(nn.Module):\n",
    "        def __init__(self):\n",
    "            super().__init__()\n",
    "            self.fc = nn.Linear(1, 2, bias=False)\n",
    "\n",
    "        def forward(self, x):\n",
    "            return self.fc(x)\n",
    "\n",
    "net = LinearNet()"
   ]
  },
  {
   "cell_type": "code",
   "execution_count": 3,
   "metadata": {},
   "outputs": [],
   "source": [
    "weights  = net.state_dict()\n",
    "weights['fc.weight'] = torch.tensor([[2],[-1]])\n",
    "net.load_state_dict(weights)\n",
    "\n",
    "assert torch.equal(net(torch.FloatTensor([[2]])), torch.FloatTensor([[ 4., -2.]]))"
   ]
  },
  {
   "cell_type": "code",
   "execution_count": 4,
   "metadata": {},
   "outputs": [],
   "source": [
    "policy = MaxQPolicy(net, num_actions=2)"
   ]
  },
  {
   "cell_type": "code",
   "execution_count": 5,
   "metadata": {},
   "outputs": [],
   "source": [
    "agent = DQN(buffer=BasicExperienceBuffer(size=10, batch_size=2), gamma=0.9, epsilon=0.1, policy=policy)\n",
    "import numpy as np"
   ]
  },
  {
   "cell_type": "code",
   "execution_count": 6,
   "metadata": {},
   "outputs": [],
   "source": [
    "agent.experience_buffer.add(np.array([1]), 0, 1, np.array([2]))"
   ]
  },
  {
   "cell_type": "code",
   "execution_count": 10,
   "metadata": {},
   "outputs": [],
   "source": [
    "l1 = [np.array([1,2]), np.array([2,3])]\n",
    "l2 = [np.array([1,2]), np.array([2,4])]\n",
    "assert compare_lists_of_np_arrays(l1, l2) == False\n",
    "assert compare_lists_of_np_arrays(l1, l1) == True"
   ]
  },
  {
   "cell_type": "code",
   "execution_count": 7,
   "metadata": {},
   "outputs": [],
   "source": [
    "buffer = BasicExperienceBuffer(size=10, batch_size=2)\n",
    "buffer.add(np.array([1, 8]), 2, 3, np.array([4, 8]))\n",
    "buffer.add(np.array([5, 8]), 6, 7, np.array([8, 8]))\n",
    "buffer.add(np.array([9, 8]), 10, 11, np.array([12, 8]))"
   ]
  },
  {
   "cell_type": "code",
   "execution_count": 60,
   "metadata": {},
   "outputs": [],
   "source": [
    "states, actions, rewards, next_states = unzip_experience_buffer(buffer)"
   ]
  },
  {
   "cell_type": "code",
   "execution_count": 12,
   "metadata": {},
   "outputs": [],
   "source": [
    "buffer = BasicExperienceBuffer(size=10, batch_size=2)\n",
    "buffer.add(np.array([1, 8]), 2, 3, np.array([4, 8]))\n",
    "buffer.add(np.array([5, 8]), 6, 7, np.array([8, 8]))\n",
    "buffer.add(np.array([9, 8]), 10, 11, np.array([12, 8]))\n",
    "\n",
    "states, actions, rewards, next_states = unzip_experience_buffer(buffer)\n"
   ]
  },
  {
   "cell_type": "code",
   "execution_count": null,
   "metadata": {},
   "outputs": [],
   "source": [
    "states"
   ]
  },
  {
   "cell_type": "code",
   "execution_count": 72,
   "metadata": {},
   "outputs": [],
   "source": [
    "assert compare_lists_of_np_arrays(states, [np.array([1, 8]), np.array([5, 8]), np.array([9, 8])])\n",
    "assert compare_lists_of_np_arrays(actions, [2, 6, 10])\n",
    "assert compare_lists_of_np_arrays(rewards, [3, 7, 11])\n",
    "assert compare_lists_of_np_arrays(next_states, [np.array([4, 8]), np.array([8, 8]), np.array([12, 8])])"
   ]
  }
 ],
 "metadata": {
  "kernelspec": {
   "display_name": "Python 3.8.0 ('simplerl')",
   "language": "python",
   "name": "python3"
  },
  "language_info": {
   "codemirror_mode": {
    "name": "ipython",
    "version": 3
   },
   "file_extension": ".py",
   "mimetype": "text/x-python",
   "name": "python",
   "nbconvert_exporter": "python",
   "pygments_lexer": "ipython3",
   "version": "3.8.0"
  },
  "orig_nbformat": 4,
  "vscode": {
   "interpreter": {
    "hash": "de26bdaf1484dc6054b019c820df177d54c3df505e58638360b78bbc4bba549d"
   }
  }
 },
 "nbformat": 4,
 "nbformat_minor": 2
}
