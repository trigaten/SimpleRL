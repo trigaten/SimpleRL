{
 "cells": [
  {
   "cell_type": "code",
   "execution_count": 1,
   "metadata": {},
   "outputs": [],
   "source": [
    "from simplerl import Policy, MaxQPolicy, DQN, BasicExperienceBuffer, DiscreteRandomPolicy, compare_lists_of_np_arrays, unzip_experience_buffer\n",
    "import torch.nn as nn\n",
    "import torch"
   ]
  },
  {
   "cell_type": "code",
   "execution_count": 2,
   "metadata": {},
   "outputs": [],
   "source": [
    "class LinearNet(nn.Module):\n",
    "        def __init__(self):\n",
    "            super().__init__()\n",
    "            self.fc = nn.Linear(1, 2, bias=False)\n",
    "\n",
    "        def forward(self, x):\n",
    "            return self.fc(x)\n",
    "\n",
    "net = LinearNet()"
   ]
  },
  {
   "cell_type": "code",
   "execution_count": 3,
   "metadata": {},
   "outputs": [],
   "source": [
    "weights  = net.state_dict()\n",
    "weights['fc.weight'] = torch.FloatTensor([[2.0],[-1.0]])\n",
    "net.load_state_dict(weights)\n",
    "\n",
    "assert torch.equal(net(torch.FloatTensor([[2]])), torch.FloatTensor([[ 4., -2.]]))"
   ]
  },
  {
   "cell_type": "code",
   "execution_count": 4,
   "metadata": {},
   "outputs": [],
   "source": [
    "policy = MaxQPolicy(net, num_actions=2)"
   ]
  },
  {
   "cell_type": "code",
   "execution_count": 5,
   "metadata": {},
   "outputs": [
    {
     "data": {
      "text/plain": [
       "tensor([[ 0.8800, -0.4400]], grad_fn=<MmBackward0>)"
      ]
     },
     "execution_count": 5,
     "metadata": {},
     "output_type": "execute_result"
    }
   ],
   "source": [
    "policy.calc_q_values(torch.FloatTensor([[0.44]]))"
   ]
  },
  {
   "cell_type": "code",
   "execution_count": 6,
   "metadata": {},
   "outputs": [],
   "source": [
    "agent = DQN(buffer=BasicExperienceBuffer(size=10, batch_size=2), gamma=0.9, epsilon=0.1, policy=policy)\n",
    "import numpy as np"
   ]
  },
  {
   "cell_type": "code",
   "execution_count": 7,
   "metadata": {},
   "outputs": [],
   "source": [
    "buffer = BasicExperienceBuffer(size=10, batch_size=2)\n",
    "buffer.add(np.array([1.0]), 2, 3, np.array([4.0]))\n",
    "buffer.add(np.array([1.0]), 2, 3, np.array([-2.0]))\n",
    "buffer.add(np.array([1.0]), 2, 3, np.array([1.0]))\n",
    "\n",
    "\n",
    "states, actions, rewards, next_states = unzip_experience_buffer(buffer)\n"
   ]
  },
  {
   "cell_type": "code",
   "execution_count": 8,
   "metadata": {},
   "outputs": [
    {
     "data": {
      "text/plain": [
       "False"
      ]
     },
     "execution_count": 8,
     "metadata": {},
     "output_type": "execute_result"
    }
   ],
   "source": [
    "out = agent.next_state_maxq_values(next_states=next_states)\n",
    "torch.equal(out.float(), torch.FloatTensor([1,2,3]))"
   ]
  },
  {
   "cell_type": "code",
   "execution_count": 9,
   "metadata": {},
   "outputs": [
    {
     "data": {
      "text/plain": [
       "tensor([[ 4.],\n",
       "        [-2.],\n",
       "        [ 1.]])"
      ]
     },
     "execution_count": 9,
     "metadata": {},
     "output_type": "execute_result"
    }
   ],
   "source": [
    "s_ = torch.from_numpy(np.stack(next_states)).float()\n",
    "s_\n",
    "# policy.net\n",
    "# policy(s_)"
   ]
  },
  {
   "cell_type": "code",
   "execution_count": 10,
   "metadata": {},
   "outputs": [],
   "source": [
    "tensor = torch.from_numpy(np.stack(next_states))"
   ]
  },
  {
   "cell_type": "code",
   "execution_count": 11,
   "metadata": {},
   "outputs": [
    {
     "data": {
      "text/plain": [
       "tensor([[ 8., -4.],\n",
       "        [-4.,  2.],\n",
       "        [ 2., -1.]], grad_fn=<MmBackward0>)"
      ]
     },
     "execution_count": 11,
     "metadata": {},
     "output_type": "execute_result"
    }
   ],
   "source": [
    "ten=agent.policy.net(tensor.float())\n",
    "ten"
   ]
  },
  {
   "cell_type": "code",
   "execution_count": 12,
   "metadata": {},
   "outputs": [
    {
     "data": {
      "text/plain": [
       "torch.return_types.max(\n",
       "values=tensor([8., 2., 2.], grad_fn=<MaxBackward0>),\n",
       "indices=tensor([0, 1, 0]))"
      ]
     },
     "execution_count": 12,
     "metadata": {},
     "output_type": "execute_result"
    }
   ],
   "source": [
    "# agent.next_state_maxq_values(states)\n",
    "ten.max(dim=1)"
   ]
  },
  {
   "cell_type": "code",
   "execution_count": 13,
   "metadata": {},
   "outputs": [
    {
     "name": "stdout",
     "output_type": "stream",
     "text": [
      "tensor([8., 2., 2.])\n"
     ]
    },
    {
     "data": {
      "text/plain": [
       "False"
      ]
     },
     "execution_count": 13,
     "metadata": {},
     "output_type": "execute_result"
    }
   ],
   "source": [
    "import numpy as np\n",
    "class LinearNet(nn.Module):\n",
    "    \"\"\"Dummy network\"\"\"\n",
    "    def __init__(self):\n",
    "        super().__init__()\n",
    "        self.fc = nn.Linear(1, 2, bias=False)\n",
    "\n",
    "    def forward(self, x):\n",
    "        return self.fc(x)\n",
    "net = LinearNet()\n",
    "weights  = net.state_dict()\n",
    "weights['fc.weight'] = torch.FloatTensor([[2.0],[-1.0]])\n",
    "net.load_state_dict(weights)\n",
    "policy = MaxQPolicy(net, num_actions=2)\n",
    "# instantiate a DQN agent\n",
    "buffer = BasicExperienceBuffer(size=10, batch_size=2)\n",
    "dqn = DQN(buffer=buffer, gamma=0.9, epsilon=0.1, policy=policy)\n",
    "\n",
    "buffer.add(np.array([1.0]), 2, 3, np.array([4.0]))\n",
    "buffer.add(np.array([1.0]), 2, 3, np.array([-2.0]))\n",
    "buffer.add(np.array([1.0]), 2, 3, np.array([1.0]))\n",
    "\n",
    "states, actions, rewards, next_states = unzip_experience_buffer(buffer)\n",
    "print(dqn.next_state_maxq_values(next_states).float())\n",
    "torch.equal(dqn.next_state_maxq_values(next_states), torch.Tensor([8.0, 2.0, 2.0]))\n",
    "\n",
    "        "
   ]
  },
  {
   "cell_type": "code",
   "execution_count": 14,
   "metadata": {},
   "outputs": [],
   "source": [
    "s_ = torch.from_numpy(np.stack(next_states)).float()\n",
    "q_values = policy.calc_q_values(s_)\n",
    "max_q_values = q_values.max(dim=1)"
   ]
  },
  {
   "cell_type": "code",
   "execution_count": 15,
   "metadata": {},
   "outputs": [
    {
     "data": {
      "text/plain": [
       "tensor([8., 2., 2.], grad_fn=<MaxBackward0>)"
      ]
     },
     "execution_count": 15,
     "metadata": {},
     "output_type": "execute_result"
    }
   ],
   "source": [
    "max_q_values.values"
   ]
  }
 ],
 "metadata": {
  "kernelspec": {
   "display_name": "Python 3.8.0 ('simplerl')",
   "language": "python",
   "name": "python3"
  },
  "language_info": {
   "codemirror_mode": {
    "name": "ipython",
    "version": 3
   },
   "file_extension": ".py",
   "mimetype": "text/x-python",
   "name": "python",
   "nbconvert_exporter": "python",
   "pygments_lexer": "ipython3",
   "version": "3.8.0"
  },
  "orig_nbformat": 4,
  "vscode": {
   "interpreter": {
    "hash": "de26bdaf1484dc6054b019c820df177d54c3df505e58638360b78bbc4bba549d"
   }
  }
 },
 "nbformat": 4,
 "nbformat_minor": 2
}
