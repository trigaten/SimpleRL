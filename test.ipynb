{
 "cells": [
  {
   "cell_type": "code",
   "execution_count": 6,
   "metadata": {},
   "outputs": [],
   "source": [
    "from simplerl import Policy, MaxQPolicy, DQN, BasicExperienceBuffer, DiscreteRandomPolicy, compare_lists_of_np_arrays, unzip_experience_buffer\n",
    "import torch.nn as nn\n",
    "import numpy as np\n",
    "import torch"
   ]
  },
  {
   "cell_type": "code",
   "execution_count": 4,
   "metadata": {},
   "outputs": [],
   "source": [
    "class LinearNet(nn.Module):\n",
    "        def __init__(self):\n",
    "            super().__init__()\n",
    "            self.fc = nn.Linear(1, 2, bias=False)\n",
    "\n",
    "        def forward(self, x):\n",
    "            return self.fc(x)\n",
    "\n",
    "net = LinearNet()"
   ]
  },
  {
   "cell_type": "code",
   "execution_count": 11,
   "metadata": {},
   "outputs": [],
   "source": [
    "net = LinearNet()\n",
    "weights  = net.state_dict()\n",
    "weights['fc.weight'] = torch.FloatTensor([[2.0],[-1.0]])\n",
    "net.load_state_dict(weights)\n",
    "policy = MaxQPolicy(net, num_actions=2)\n",
    "# instantiate a DQN agent\n",
    "buffer = BasicExperienceBuffer(size=10, batch_size=2)\n",
    "dqn = DQN(buffer=buffer, gamma=0.9, epsilon=0.1, policy=policy)\n",
    "\n",
    "buffer.add(np.array([1.0]), 2, 3, np.array([4.0]), False)\n",
    "buffer.add(np.array([4.0]), 2, 3, np.array([-2.0]), False)\n",
    "buffer.add(np.array([-2.0]), 2, 3, np.array([1.0]), True)\n",
    "\n",
    "states, actions, rewards, next_states, dones = unzip_experience_buffer(buffer)\n",
    "\n",
    "target_values = dqn.compute_target_values(rewards, next_states, dones)\n"
   ]
  },
  {
   "cell_type": "code",
   "execution_count": 10,
   "metadata": {},
   "outputs": [],
   "source": [
    "target_values = dqn.compute_target_values(rewards, next_states, dones)"
   ]
  },
  {
   "cell_type": "code",
   "execution_count": 8,
   "metadata": {},
   "outputs": [],
   "source": [
    "next_state_q_values = dqn.next_state_maxq_values(next_states, dones)"
   ]
  }
 ],
 "metadata": {
  "kernelspec": {
   "display_name": "Python 3.8.0 ('simplerl')",
   "language": "python",
   "name": "python3"
  },
  "language_info": {
   "codemirror_mode": {
    "name": "ipython",
    "version": 3
   },
   "file_extension": ".py",
   "mimetype": "text/x-python",
   "name": "python",
   "nbconvert_exporter": "python",
   "pygments_lexer": "ipython3",
   "version": "3.8.0"
  },
  "orig_nbformat": 4,
  "vscode": {
   "interpreter": {
    "hash": "de26bdaf1484dc6054b019c820df177d54c3df505e58638360b78bbc4bba549d"
   }
  }
 },
 "nbformat": 4,
 "nbformat_minor": 2
}
