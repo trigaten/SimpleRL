{
 "cells": [
  {
   "cell_type": "code",
   "execution_count": null,
   "metadata": {},
   "outputs": [],
   "source": [
    "import gymnasium as gym\n",
    "# import gym\n",
    "import torch\n",
    "import torch.nn as nn\n",
    "import numpy as np\n",
    "from pytest import approx\n",
    "import random\n",
    "\n",
    "random.seed(42)\n",
    "torch.manual_seed(42)\n",
    "\n",
    "from simplerl.core import Experience\n",
    "from simplerl.policies import DiscreteRandomPolicy\n",
    "from simplerl.buffers import BasicExperienceBuffer\n",
    "from simplerl.dqn import DQN\n",
    "# from simplerl.hooks import RewardLoggerHook, ComposedHook, TestPerformanceLogger\n",
    "\n",
    "from simplerl.core import train\n",
    "\n",
    "from simplerl import unzip_experience_buffer, MaxQPolicy\n",
    "\n",
    "class LinearNet(nn.Module):\n",
    "    \"\"\"Dummy network\"\"\"\n",
    "    def __init__(self, inputs=1, outputs = 2):\n",
    "        super().__init__()\n",
    "        self.fc = nn.Sequential(\n",
    "            nn.Linear(inputs, outputs, bias=False)\n",
    "        )\n",
    "        \n",
    "\n",
    "    def forward(self, x):\n",
    "        return self.fc(x)\n",
    "\n",
    "%load_ext autoreload\n",
    "%autoreload 2"
   ]
  },
  {
   "cell_type": "code",
   "execution_count": null,
   "metadata": {},
   "outputs": [],
   "source": [
    "print(net.state_dict())"
   ]
  },
  {
   "cell_type": "code",
   "execution_count": null,
   "metadata": {},
   "outputs": [],
   "source": [
    "net = LinearNet(4, 2)\n",
    "print(net.state_dict())\n",
    "policy = MaxQPolicy(net, num_actions=2)\n",
    "# instantiate a DQN agent\n",
    "dqn = DQN(buffer=BasicExperienceBuffer(size=200, batch_size=20), \n",
    "gamma=0.9, epsilon=0.1, \n",
    "policy=policy, optimizer=torch.optim.Adam(net.parameters(), lr=0.0001),\n",
    "start_learning_step=20, target_update_freq=4, update_freq=20)\n",
    "\n",
    "env = gym.make('CartPole-v1')\n",
    "\n",
    "train(dqn, env, 200000)"
   ]
  },
  {
   "cell_type": "code",
   "execution_count": null,
   "metadata": {},
   "outputs": [],
   "source": [
    "net = LinearNet(4, 2)\n",
    "print(net.state_dict())\n",
    "policy = MaxQPolicy(net, num_actions=2)\n",
    "# instantiate a DQN agent\n",
    "dqn = DQN(buffer=BasicExperienceBuffer(size=200, batch_size=20), \n",
    "gamma=0.9, epsilon=0.1, \n",
    "policy=policy, optimizer=torch.optim.Adam(net.parameters(), lr=0.0001),\n",
    "start_learning_step=20, target_update_freq=4, update_freq=20)\n",
    "\n",
    "env = gym.make('CartPole-v1')\n",
    "\n",
    "train(dqn, env, 100000)"
   ]
  },
  {
   "cell_type": "code",
   "execution_count": null,
   "metadata": {},
   "outputs": [],
   "source": [
    "print(net.state_dict())"
   ]
  },
  {
   "cell_type": "code",
   "execution_count": null,
   "metadata": {},
   "outputs": [],
   "source": [
    "totals = []\n",
    "for i in range(100):\n",
    "    obs, info = env.reset()\n",
    "    done = False\n",
    "    total_reward = 0\n",
    "    while not done:\n",
    "        action = dqn.policy(torch.FloatTensor([obs]))\n",
    "        # if random.random() > 0.5:\n",
    "        #     action = random.choice([0,1])\n",
    "        obs, reward, truncated, terminated, info = env.step(action)\n",
    "        done = truncated or terminated\n",
    "        total_reward += reward\n",
    "        # env.render()\n",
    "    # print(total_reward)\n",
    "    totals.append(total_reward)\n",
    "    # print(env._elapsed_steps)\n",
    "\n",
    "print(totals)"
   ]
  },
  {
   "cell_type": "code",
   "execution_count": null,
   "metadata": {},
   "outputs": [],
   "source": [
    "random.random()"
   ]
  },
  {
   "cell_type": "code",
   "execution_count": null,
   "metadata": {},
   "outputs": [],
   "source": [
    "totals == None"
   ]
  },
  {
   "cell_type": "code",
   "execution_count": null,
   "metadata": {},
   "outputs": [],
   "source": [
    "sum(totals) / len(totals)"
   ]
  },
  {
   "cell_type": "code",
   "execution_count": null,
   "metadata": {},
   "outputs": [],
   "source": [
    "dqn.policy(torch.FloatTensor([[ 0.04432631, -0.04406307,  0.02517137, -0.01060806]]))\n",
    "env.render()"
   ]
  },
  {
   "cell_type": "code",
   "execution_count": null,
   "metadata": {},
   "outputs": [],
   "source": [
    "import random\n",
    "obs = env.reset()\n",
    "done = False\n",
    "total_reward = 0\n",
    "while not done:\n",
    "    obs, reward, done, info = env.step(random.choice([0,1]))\n",
    "    total_reward += reward\n",
    "    # env.render()\n",
    "print(total_reward)"
   ]
  }
 ],
 "metadata": {
  "kernelspec": {
   "display_name": "Python 3.8.0 ('simplerl')",
   "language": "python",
   "name": "python3"
  },
  "language_info": {
   "codemirror_mode": {
    "name": "ipython",
    "version": 3
   },
   "file_extension": ".py",
   "mimetype": "text/x-python",
   "name": "python",
   "nbconvert_exporter": "python",
   "pygments_lexer": "ipython3",
   "version": "3.9.13"
  },
  "orig_nbformat": 4,
  "vscode": {
   "interpreter": {
    "hash": "de26bdaf1484dc6054b019c820df177d54c3df505e58638360b78bbc4bba549d"
   }
  }
 },
 "nbformat": 4,
 "nbformat_minor": 2
}
